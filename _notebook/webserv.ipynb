{
 "cells": [
  {
   "cell_type": "markdown",
   "metadata": {},
   "source": [
    "# webserv"
   ]
  },
  {
   "cell_type": "markdown",
   "metadata": {},
   "source": [
    "## Directives"
   ]
  },
  {
   "cell_type": "markdown",
   "metadata": {},
   "source": [
    "### listen"
   ]
  },
  {
   "cell_type": "code",
   "execution_count": null,
   "metadata": {
    "vscode": {
     "languageId": "shellscript"
    }
   },
   "outputs": [],
   "source": [
    "Syntax:\t    listen address[:port] [default_server] [ssl] [http2 | quic] [proxy_protocol] [setfib=number] [fastopen=number] [backlog=number] [rcvbuf=size] [sndbuf=size] [accept_filter=filter] [deferred] [bind] [ipv6only=on|off] [reuseport] [so_keepalive=on|off|[keepidle]:[keepintvl]:[keepcnt]];\n",
    "            listen port [default_server] [ssl] [http2 | quic] [proxy_protocol] [setfib=number] [fastopen=number] [backlog=number] [rcvbuf=size] [sndbuf=size] [accept_filter=filter] [deferred] [bind] [ipv6only=on|off] [reuseport] [so_keepalive=on|off|[keepidle]:[keepintvl]:[keepcnt]];\n",
    "            listen unix:path [default_server] [ssl] [http2 | quic] [proxy_protocol] [backlog=number] [rcvbuf=size] [sndbuf=size] [accept_filter=filter] [deferred] [bind] [so_keepalive=on|off|[keepidle]:[keepintvl]:[keepcnt]];\n",
    "Default:\tlisten *:80 | *:8000;\n",
    "Context:\tserver"
   ]
  },
  {
   "cell_type": "markdown",
   "metadata": {},
   "source": [
    "The listen directive typically defines which IP address and port that the server block will respond to. By default, any server block that does not include a listen directive is given the listen parameters of 0.0.0.0:80 (or 0.0.0.0:8080 if Nginx is being run by a normal, non-root user). This allows these blocks to respond to requests on any interface on port 80, but this default value does not hold much weight within the server selection process.\n",
    "\n",
    "The listen directive can be set to:\n",
    "\n",
    "An IP address/port combo.\n",
    "A lone IP address which will then listen on the default port 80.\n",
    "A lone port which will listen to every interface on that port.\n",
    "The path to a Unix socket.\n",
    "\n",
    "For example, listen 80; indicates that the server will listen on all network interfaces on the default IP address for incoming requests on port 80. The listen directive is essential for configuring the listening behavior of the Nginx web server."
   ]
  },
  {
   "cell_type": "code",
   "execution_count": null,
   "metadata": {
    "vscode": {
     "languageId": "shellscript"
    }
   },
   "outputs": [],
   "source": [
    "server {\n",
    "    listen 80; # corresponds to \"listen *:80\" meaning listen on all network interfaces on port 80.\n",
    "    # <...>\n",
    "}"
   ]
  },
  {
   "cell_type": "markdown",
   "metadata": {},
   "source": [
    "Multiple listen directives can also be defined:"
   ]
  },
  {
   "cell_type": "code",
   "execution_count": null,
   "metadata": {
    "vscode": {
     "languageId": "shellscript"
    }
   },
   "outputs": [],
   "source": [
    "server {\n",
    "    listen localhost:80;\n",
    "    listen 192.168.1.10:80;\n",
    "    listen 192.168.1.10:8090;\n",
    "    # <...>\n",
    "}"
   ]
  },
  {
   "cell_type": "markdown",
   "metadata": {},
   "source": [
    "In the Nginx configuration file, the default_server option specifies the default server to which a client request with an unknown domain and an empty host field will be forwarded. For instance, when a client writes out the server IP address into a browser or has many domains, such as linuxhint.com, test1.linuxhint.com, and test2.linuxhint.com, not all of them are mentioned in the Nginx configuration file.\n",
    "\n",
    "If you have not added the “default_server” parameter to any virtual server, the first server will be considered the default."
   ]
  },
  {
   "cell_type": "code",
   "execution_count": null,
   "metadata": {
    "vscode": {
     "languageId": "shellscript"
    }
   },
   "outputs": [],
   "source": [
    "server {\n",
    "    listen 80 default_server;\n",
    "    # <...>\n",
    "}"
   ]
  },
  {
   "cell_type": "markdown",
   "metadata": {},
   "source": [
    "N.B. the default_server is only for one ip:port, consequently if there are virtual hosts with different ip:ports, there will be a default_server for each of them, whether specified or not, in this case the first one with this ip:port is designated"
   ]
  },
  {
   "cell_type": "code",
   "execution_count": null,
   "metadata": {
    "vscode": {
     "languageId": "shellscript"
    }
   },
   "outputs": [],
   "source": [
    "server {\n",
    "    listen localhost:80; # this is default_server for 127.0.0.1:80\n",
    "    # <...>\n",
    "}\n",
    "\n",
    "server {\n",
    "    listen localhost:80;\n",
    "    # <...>\n",
    "}\n",
    "\n",
    "server {\n",
    "    listen 192.168.24.24:8080;\n",
    "    # <...>\n",
    "}\n",
    "\n",
    "server {\n",
    "    listen 192.168.24.24:8080 default_server; # this is default_server for 192.168.24.24:8080\n",
    "    # <...>\n",
    "}\n",
    "\n",
    "server {\n",
    "    listen 192.168.42.42:80; # this is default_server for 192.168.42.42:80\n",
    "    # <...>\n",
    "}"
   ]
  },
  {
   "cell_type": "markdown",
   "metadata": {},
   "source": [
    "### server_name\n"
   ]
  },
  {
   "cell_type": "code",
   "execution_count": null,
   "metadata": {
    "vscode": {
     "languageId": "shellscript"
    }
   },
   "outputs": [],
   "source": [
    "Syntax:\t    server_name name ...;\n",
    "Default:\tserver_name \"\";\n",
    "Context:\tserver"
   ]
  },
  {
   "cell_type": "markdown",
   "metadata": {},
   "source": [
    "The server_name directive helps to route the HTTP request to the correct virtual host in the following way:\n",
    "- the web server checks ip:host and checks all the virtual hosts matching this range;\n",
    "- now checks the Host field of the HTTP request and compares it with the server_names of the different virtual hosts;\n",
    "- if no server_name matches, the request is routed to the default_server virtual host.\n",
    "\n",
    "The server_name directive accepts both single and multiple urls and ip.\n",
    "\n",
    "Let's try two scenarios with two different HTTP requests, first request:\n",
    "* GET / HTTP/1.1\n",
    "* Host: 192.168.42.42\n",
    "* User-Agent: curl/7.81.0\n",
    "\n",
    "second request:\n",
    "* GET / HTTP/1.1\n",
    "* Host: another-site.org\n",
    "* User-Agent: curl/7.81.0"
   ]
  },
  {
   "cell_type": "code",
   "execution_count": null,
   "metadata": {
    "vscode": {
     "languageId": "shellscript"
    }
   },
   "outputs": [],
   "source": [
    "server {\n",
    "    listen 80;\n",
    "    server_name example.com www.example.com;\n",
    "    ...\n",
    "}\n",
    "\n",
    "server {\n",
    "    listen 80;\n",
    "    server_name 127.0.0.1;\n",
    "    ...\n",
    "}\n",
    "\n",
    "server {\n",
    "    listen 80 default_server;\n",
    "    server_name 192.168.42.42;\n",
    "    ...\n",
    "}"
   ]
  },
  {
   "cell_type": "markdown",
   "metadata": {},
   "source": [
    "In these two scenarios, both requests will be routed to the third virtual host."
   ]
  },
  {
   "cell_type": "code",
   "execution_count": null,
   "metadata": {
    "vscode": {
     "languageId": "shellscript"
    }
   },
   "outputs": [],
   "source": [
    "Syntax:\t    root path;\n",
    "Default:\troot html;\n",
    "Context:\thttp, server, location, if in location"
   ]
  },
  {
   "cell_type": "markdown",
   "metadata": {},
   "source": [
    "It is important to understand that Nginx will only evaluate the server_name directive when it needs to distinguish between server blocks that match to the same level of specificity in the listen directive. For instance, if example.com is hosted on port 80 of 192.168.1.10, a request for example.com will always be served by the first block in this example, despite the server_name directive in the second block.\n"
   ]
  },
  {
   "cell_type": "code",
   "execution_count": null,
   "metadata": {
    "vscode": {
     "languageId": "shellscript"
    }
   },
   "outputs": [],
   "source": [
    "server {\n",
    "    listen 192.168.1.10;\n",
    "    ...\n",
    "}\n",
    "\n",
    "server {\n",
    "    listen 80;\n",
    "    server_name example.com;\n",
    "    ...\n",
    "}"
   ]
  },
  {
   "cell_type": "markdown",
   "metadata": {},
   "source": [
    "### location\n"
   ]
  },
  {
   "cell_type": "code",
   "execution_count": null,
   "metadata": {
    "vscode": {
     "languageId": "shellscript"
    }
   },
   "outputs": [],
   "source": [
    "Syntax:\t    location [ = | ~ | ~* | ^~ ] uri { ... }\n",
    "            location @name { ... }\n",
    "Default:\t—\n",
    "Context:\tserver, location"
   ]
  },
  {
   "cell_type": "markdown",
   "metadata": {},
   "source": []
  },
  {
   "cell_type": "markdown",
   "metadata": {},
   "source": [
    "### root"
   ]
  },
  {
   "cell_type": "markdown",
   "metadata": {},
   "source": []
  },
  {
   "cell_type": "markdown",
   "metadata": {},
   "source": [
    "### index\n"
   ]
  }
 ],
 "metadata": {
  "language_info": {
   "name": "python"
  }
 },
 "nbformat": 4,
 "nbformat_minor": 2
}
